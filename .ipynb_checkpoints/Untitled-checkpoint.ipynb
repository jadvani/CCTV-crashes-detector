{
 "cells": [
  {
   "cell_type": "code",
   "execution_count": 9,
   "metadata": {},
   "outputs": [],
   "source": [
    "import pandas as pd\n",
    "\n",
    "data_labelled = pd.read_excel('JSON\\\\CADP Dataset relabelled_25_10_2020.xlsx')\n",
    "annotations = data_labelled[['folder', 'start', 'start_coord', 'end','end_coord']]\n",
    "annotations['start'].replace('', np.nan, inplace=True)\n",
    "annotations.dropna(subset=['start'], inplace=True)"
   ]
  },
  {
   "cell_type": "code",
   "execution_count": 11,
   "metadata": {},
   "outputs": [
    {
     "name": "stdout",
     "output_type": "stream",
     "text": [
      "1416\n"
     ]
    },
    {
     "data": {
      "text/html": [
       "<div>\n",
       "<style scoped>\n",
       "    .dataframe tbody tr th:only-of-type {\n",
       "        vertical-align: middle;\n",
       "    }\n",
       "\n",
       "    .dataframe tbody tr th {\n",
       "        vertical-align: top;\n",
       "    }\n",
       "\n",
       "    .dataframe thead th {\n",
       "        text-align: right;\n",
       "    }\n",
       "</style>\n",
       "<table border=\"1\" class=\"dataframe\">\n",
       "  <thead>\n",
       "    <tr style=\"text-align: right;\">\n",
       "      <th></th>\n",
       "      <th>folder</th>\n",
       "      <th>start</th>\n",
       "      <th>start_coord</th>\n",
       "      <th>end</th>\n",
       "      <th>end_coord</th>\n",
       "    </tr>\n",
       "  </thead>\n",
       "  <tbody>\n",
       "    <tr>\n",
       "      <th>0</th>\n",
       "      <td>0</td>\n",
       "      <td>498.0</td>\n",
       "      <td>[270, 195, 94, 70]</td>\n",
       "      <td>560.0</td>\n",
       "      <td>[350, 310, 126, 42]</td>\n",
       "    </tr>\n",
       "    <tr>\n",
       "      <th>1</th>\n",
       "      <td>1</td>\n",
       "      <td>307.0</td>\n",
       "      <td>[503, 291, 240, 85]</td>\n",
       "      <td>459.0</td>\n",
       "      <td>[402, 294, 126, 80]</td>\n",
       "    </tr>\n",
       "    <tr>\n",
       "      <th>2</th>\n",
       "      <td>2</td>\n",
       "      <td>45.0</td>\n",
       "      <td>[30, 57, 104, 46]</td>\n",
       "      <td>222.0</td>\n",
       "      <td>[29, 51, 235, 140]</td>\n",
       "    </tr>\n",
       "    <tr>\n",
       "      <th>3</th>\n",
       "      <td>3</td>\n",
       "      <td>141.0</td>\n",
       "      <td>[182, 234, 304, 185]</td>\n",
       "      <td>232.0</td>\n",
       "      <td>[120, 412, 312, 216]</td>\n",
       "    </tr>\n",
       "    <tr>\n",
       "      <th>4</th>\n",
       "      <td>4</td>\n",
       "      <td>33.0</td>\n",
       "      <td>[274, 65, 168, 98]</td>\n",
       "      <td>72.0</td>\n",
       "      <td>[338, 80, 138, 78]</td>\n",
       "    </tr>\n",
       "  </tbody>\n",
       "</table>\n",
       "</div>"
      ],
      "text/plain": [
       "   folder  start           start_coord    end             end_coord\n",
       "0       0  498.0    [270, 195, 94, 70]  560.0   [350, 310, 126, 42]\n",
       "1       1  307.0   [503, 291, 240, 85]  459.0   [402, 294, 126, 80]\n",
       "2       2   45.0     [30, 57, 104, 46]  222.0    [29, 51, 235, 140]\n",
       "3       3  141.0  [182, 234, 304, 185]  232.0  [120, 412, 312, 216]\n",
       "4       4   33.0    [274, 65, 168, 98]   72.0    [338, 80, 138, 78]"
      ]
     },
     "execution_count": 11,
     "metadata": {},
     "output_type": "execute_result"
    }
   ],
   "source": [
    "print(len(annotations))\n",
    "annotations.head()"
   ]
  },
  {
   "cell_type": "code",
   "execution_count": null,
   "metadata": {},
   "outputs": [],
   "source": []
  }
 ],
 "metadata": {
  "kernelspec": {
   "display_name": "Python 3",
   "language": "python",
   "name": "python3"
  },
  "language_info": {
   "codemirror_mode": {
    "name": "ipython",
    "version": 3
   },
   "file_extension": ".py",
   "mimetype": "text/x-python",
   "name": "python",
   "nbconvert_exporter": "python",
   "pygments_lexer": "ipython3",
   "version": "3.8.3"
  }
 },
 "nbformat": 4,
 "nbformat_minor": 4
}
